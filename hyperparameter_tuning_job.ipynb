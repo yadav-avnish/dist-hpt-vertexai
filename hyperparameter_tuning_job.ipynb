{
 "cells": [
  {
   "cell_type": "code",
   "execution_count": 35,
   "id": "8f6018ea-613b-4a03-8b90-48822fe03554",
   "metadata": {},
   "outputs": [],
   "source": [
    "from google.cloud import aiplatform\n",
    "from google.cloud.aiplatform import hyperparameter_tuning as hpt"
   ]
  },
  {
   "cell_type": "code",
   "execution_count": null,
   "id": "3f956bfe-4837-4fae-bffe-64fea6dd1dd6",
   "metadata": {},
   "outputs": [],
   "source": []
  },
  {
   "cell_type": "code",
   "execution_count": null,
   "id": "7af9bb10-b341-45ab-aaea-cac4c7c7f922",
   "metadata": {},
   "outputs": [],
   "source": []
  },
  {
   "cell_type": "code",
   "execution_count": 36,
   "id": "e7a6bffe-ff3e-4677-83ef-f0b3ba2e557e",
   "metadata": {},
   "outputs": [
    {
     "name": "stdout",
     "output_type": "stream",
     "text": [
      "Requirement already satisfied: PyYAML in /opt/conda/lib/python3.7/site-packages (5.4.1)\n"
     ]
    }
   ],
   "source": [
    "!pip install PyYAML"
   ]
  },
  {
   "cell_type": "code",
   "execution_count": null,
   "id": "ac16ba3d-1eec-4ab2-8d57-47c61f3cadc1",
   "metadata": {},
   "outputs": [],
   "source": []
  },
  {
   "cell_type": "code",
   "execution_count": null,
   "id": "f8f348e0-6625-47e3-8119-56fbf59c1a95",
   "metadata": {},
   "outputs": [],
   "source": []
  },
  {
   "cell_type": "code",
   "execution_count": null,
   "id": "ca9161cd-ca55-4024-b836-717b99a3b333",
   "metadata": {},
   "outputs": [],
   "source": []
  },
  {
   "cell_type": "code",
   "execution_count": 53,
   "id": "5ef4da00-e19e-4081-9ea3-fe167b09d885",
   "metadata": {},
   "outputs": [],
   "source": [
    "worker_pool_specs=[{'machine_spec': {'machine_type': 'n1-standard-4',\n",
    "   # 'accelerator_type': 'NVIDIA_TESLA_V100',\n",
    "   # 'accelerator_count': 2\n",
    "                                    },\n",
    " 'replica_count': 1,\n",
    " 'container_spec': {'image_uri': 'gcr.io/project-neuron-368805/horse-human-codelab:latest'}}]"
   ]
  },
  {
   "cell_type": "code",
   "execution_count": 54,
   "id": "66036e63-5724-4a0f-9eb2-8dd17245aabb",
   "metadata": {},
   "outputs": [],
   "source": [
    "parameter_spec=  {\n",
    "\"learning_rate\":hpt.DoubleParameterSpec(min=0.001,max=1,scale=\"log\"),\n",
    "    \"momentum\": hpt.DoubleParameterSpec(min=0,max=1,scale=\"linear\"),\n",
    "    \"num_units\": hpt.DiscreteParameterSpec(values=[64,128,512],scale=None)\n",
    "}"
   ]
  },
  {
   "cell_type": "code",
   "execution_count": 55,
   "id": "59260d63-7ce1-4495-8c8d-3389e33ea166",
   "metadata": {},
   "outputs": [
    {
     "data": {
      "text/plain": [
       "{'learning_rate': <google.cloud.aiplatform.hyperparameter_tuning.DoubleParameterSpec at 0x7f7cbc409410>,\n",
       " 'momentum': <google.cloud.aiplatform.hyperparameter_tuning.DoubleParameterSpec at 0x7f7cbc409450>,\n",
       " 'num_units': <google.cloud.aiplatform.hyperparameter_tuning.DiscreteParameterSpec at 0x7f7cbc409490>}"
      ]
     },
     "execution_count": 55,
     "metadata": {},
     "output_type": "execute_result"
    }
   ],
   "source": [
    "parameter_spec"
   ]
  },
  {
   "cell_type": "code",
   "execution_count": 56,
   "id": "2820d6cf-b386-4d47-8a76-1fcf15d83ac4",
   "metadata": {},
   "outputs": [],
   "source": [
    "metric_spec = {\"accuracy\":\"maximize\"}"
   ]
  },
  {
   "cell_type": "code",
   "execution_count": 57,
   "id": "32c1f333-1447-41a5-a0ff-37c993b9c6a8",
   "metadata": {},
   "outputs": [
    {
     "name": "stdout",
     "output_type": "stream",
     "text": [
      "Creating gs://project-neuron-hptune-bucket/...\n",
      "ServiceException: 409 A Cloud Storage bucket named 'project-neuron-hptune-bucket' already exists. Try another name. Bucket names must be globally unique across all Google Cloud projects, including those outside of your organization.\n"
     ]
    }
   ],
   "source": [
    "!gsutil mb -l us-central1 gs://project-neuron-hptune-bucket"
   ]
  },
  {
   "cell_type": "code",
   "execution_count": 58,
   "id": "f2a72ae0-f0cd-4fb6-983f-b1537bd99560",
   "metadata": {},
   "outputs": [],
   "source": [
    "my_custom_job = aiplatform.CustomJob(display_name=\"horses-humans\",worker_pool_specs=worker_pool_specs,staging_bucket=\"gs://project-neuron-hptune-bucket\")"
   ]
  },
  {
   "cell_type": "code",
   "execution_count": 59,
   "id": "9c1d0265-8801-4aed-84cc-15b7a12c6f17",
   "metadata": {},
   "outputs": [],
   "source": [
    "hp_job = aiplatform.HyperparameterTuningJob(\n",
    "display_name=\"horses-humans\",\n",
    "    custom_job=my_custom_job,\n",
    "    metric_spec=metric_spec,\n",
    "    parameter_spec=parameter_spec,\n",
    "    max_trial_count=6,\n",
    "    parallel_trial_count=2,\n",
    "    search_algorithm=None\n",
    ")"
   ]
  },
  {
   "cell_type": "code",
   "execution_count": null,
   "id": "8fc401c5-e92a-4a30-a65e-cf6402fc8423",
   "metadata": {},
   "outputs": [
    {
     "name": "stdout",
     "output_type": "stream",
     "text": [
      "Creating HyperparameterTuningJob\n",
      "HyperparameterTuningJob created. Resource name: projects/134300826161/locations/us-central1/hyperparameterTuningJobs/7511898762776674304\n",
      "To use this HyperparameterTuningJob in another session:\n",
      "hpt_job = aiplatform.HyperparameterTuningJob.get('projects/134300826161/locations/us-central1/hyperparameterTuningJobs/7511898762776674304')\n",
      "View HyperparameterTuningJob:\n",
      "https://console.cloud.google.com/ai/platform/locations/us-central1/training/7511898762776674304?project=134300826161\n",
      "HyperparameterTuningJob projects/134300826161/locations/us-central1/hyperparameterTuningJobs/7511898762776674304 current state:\n",
      "JobState.JOB_STATE_RUNNING\n",
      "HyperparameterTuningJob projects/134300826161/locations/us-central1/hyperparameterTuningJobs/7511898762776674304 current state:\n",
      "JobState.JOB_STATE_RUNNING\n",
      "HyperparameterTuningJob projects/134300826161/locations/us-central1/hyperparameterTuningJobs/7511898762776674304 current state:\n",
      "JobState.JOB_STATE_RUNNING\n",
      "HyperparameterTuningJob projects/134300826161/locations/us-central1/hyperparameterTuningJobs/7511898762776674304 current state:\n",
      "JobState.JOB_STATE_RUNNING\n",
      "HyperparameterTuningJob projects/134300826161/locations/us-central1/hyperparameterTuningJobs/7511898762776674304 current state:\n",
      "JobState.JOB_STATE_RUNNING\n",
      "HyperparameterTuningJob projects/134300826161/locations/us-central1/hyperparameterTuningJobs/7511898762776674304 current state:\n",
      "JobState.JOB_STATE_RUNNING\n",
      "HyperparameterTuningJob projects/134300826161/locations/us-central1/hyperparameterTuningJobs/7511898762776674304 current state:\n",
      "JobState.JOB_STATE_RUNNING\n",
      "HyperparameterTuningJob projects/134300826161/locations/us-central1/hyperparameterTuningJobs/7511898762776674304 current state:\n",
      "JobState.JOB_STATE_RUNNING\n",
      "HyperparameterTuningJob projects/134300826161/locations/us-central1/hyperparameterTuningJobs/7511898762776674304 current state:\n",
      "JobState.JOB_STATE_RUNNING\n"
     ]
    }
   ],
   "source": [
    "hp_job.run()"
   ]
  },
  {
   "cell_type": "code",
   "execution_count": null,
   "id": "a6227f04-567d-4a42-a99c-ab821b349585",
   "metadata": {},
   "outputs": [],
   "source": []
  },
  {
   "cell_type": "code",
   "execution_count": null,
   "id": "4676832a-be98-49c5-b323-7c28d87dc554",
   "metadata": {},
   "outputs": [],
   "source": []
  }
 ],
 "metadata": {
  "environment": {
   "kernel": "python3",
   "name": "pytorch-gpu.1-12.m100",
   "type": "gcloud",
   "uri": "gcr.io/deeplearning-platform-release/pytorch-gpu.1-12:m100"
  },
  "kernelspec": {
   "display_name": "Python 3",
   "language": "python",
   "name": "python3"
  },
  "language_info": {
   "codemirror_mode": {
    "name": "ipython",
    "version": 3
   },
   "file_extension": ".py",
   "mimetype": "text/x-python",
   "name": "python",
   "nbconvert_exporter": "python",
   "pygments_lexer": "ipython3",
   "version": "3.7.12"
  }
 },
 "nbformat": 4,
 "nbformat_minor": 5
}
